{
  "nbformat": 4,
  "nbformat_minor": 0,
  "metadata": {
    "colab": {
      "provenance": []
    },
    "kernelspec": {
      "name": "python3",
      "display_name": "Python 3"
    },
    "language_info": {
      "name": "python"
    }
  },
  "cells": [
    {
      "cell_type": "code",
      "execution_count": null,
      "metadata": {
        "colab": {
          "base_uri": "https://localhost:8080/"
        },
        "id": "tgzW2bMSU1dF",
        "outputId": "6c2dd09f-a356-4357-b13f-4eb4280ae33b"
      },
      "outputs": [
        {
          "output_type": "stream",
          "name": "stdout",
          "text": [
            "987\n",
            "148.3\n"
          ]
        },
        {
          "output_type": "execute_result",
          "data": {
            "text/plain": [
              "float"
            ]
          },
          "metadata": {},
          "execution_count": 2
        }
      ],
      "source": [
        "#data types\n",
        "# 1. numeric\n",
        "# a. integer:987, -67\n",
        "# b. float: 6.70,-56.8\n",
        "var_int=987\n",
        "print(var_int)\n",
        "type(var_int)\n",
        "var_int_input=69.8+78.5\n",
        "print(var_int_input)\n",
        "type(var_int_input)"
      ]
    },
    {
      "cell_type": "markdown",
      "source": [],
      "metadata": {
        "id": "gfq3jV7EU9wJ"
      }
    },
    {
      "cell_type": "code",
      "source": [
        "# complex:76+8j\n",
        "num1=76\n",
        "num2=8j\n",
        "vars=76+8j\n",
        "print(vars)\n",
        "type (vars)\n",
        "\n"
      ],
      "metadata": {
        "colab": {
          "base_uri": "https://localhost:8080/"
        },
        "id": "QRn_lRIGU-Xw",
        "outputId": "85ea20a9-adef-4cc4-d5cf-3a7b2aa40fc5"
      },
      "execution_count": null,
      "outputs": [
        {
          "output_type": "stream",
          "name": "stdout",
          "text": [
            "(76+8j)\n"
          ]
        },
        {
          "output_type": "execute_result",
          "data": {
            "text/plain": [
              "complex"
            ]
          },
          "metadata": {},
          "execution_count": 4
        }
      ]
    },
    {
      "cell_type": "code",
      "source": [
        "# string:\n",
        "ab='alien', \"python is programming language\"\n",
        "xy= \"\"\"i am learning python\"\"\"\n",
        "print(ab , xy )\n",
        "type(ab)\n",
        "type(xy)"
      ],
      "metadata": {
        "colab": {
          "base_uri": "https://localhost:8080/"
        },
        "id": "MFAb37quZ0DT",
        "outputId": "9bc53481-8614-4395-c26d-a436866bf478"
      },
      "execution_count": null,
      "outputs": [
        {
          "output_type": "stream",
          "name": "stdout",
          "text": [
            "('alien', 'python is programming language') i am learning python\n"
          ]
        },
        {
          "output_type": "execute_result",
          "data": {
            "text/plain": [
              "str"
            ]
          },
          "metadata": {},
          "execution_count": 5
        }
      ]
    },
    {
      "cell_type": "code",
      "source": [
        "# boolean:\n",
        "var_int=70>78\n",
        "print(var_int)\n",
        "type(var_int)\n"
      ],
      "metadata": {
        "colab": {
          "base_uri": "https://localhost:8080/"
        },
        "id": "-5A4hFSHbDa9",
        "outputId": "72c9e1d4-307d-46ce-9fe5-8bf3b3298878"
      },
      "execution_count": null,
      "outputs": [
        {
          "output_type": "stream",
          "name": "stdout",
          "text": [
            "False\n"
          ]
        },
        {
          "output_type": "execute_result",
          "data": {
            "text/plain": [
              "bool"
            ]
          },
          "metadata": {},
          "execution_count": 7
        }
      ]
    },
    {
      "cell_type": "code",
      "source": [
        "#sequence/collection:\n",
        "age1=60\n",
        "age2=50\n",
        "age3=30\n",
        "age4=20\n",
        "ages=[60,50,30,20]\n",
        "print(ages)\n",
        "type(ages)"
      ],
      "metadata": {
        "colab": {
          "base_uri": "https://localhost:8080/"
        },
        "id": "de2WAZEAcSS3",
        "outputId": "1f6237bd-0159-4897-c102-807e78de3eb5"
      },
      "execution_count": null,
      "outputs": [
        {
          "output_type": "stream",
          "name": "stdout",
          "text": [
            "[60, 50, 30, 20]\n"
          ]
        },
        {
          "output_type": "execute_result",
          "data": {
            "text/plain": [
              "list"
            ]
          },
          "metadata": {},
          "execution_count": 8
        }
      ]
    },
    {
      "cell_type": "code",
      "source": [
        "# tuples:\n",
        "items1=(76,34,54,32,20)\n",
        "items2=(87,45,34,65,76)\n",
        "print(items1,items2)\n",
        "type(items1)\n",
        "type(items2)"
      ],
      "metadata": {
        "colab": {
          "base_uri": "https://localhost:8080/"
        },
        "id": "-sDrhBkZdWa_",
        "outputId": "3af20391-bbf0-4716-c388-831ba6b83eba"
      },
      "execution_count": null,
      "outputs": [
        {
          "output_type": "stream",
          "name": "stdout",
          "text": [
            "(76, 34, 54, 32, 20) (87, 45, 34, 65, 76)\n"
          ]
        },
        {
          "output_type": "execute_result",
          "data": {
            "text/plain": [
              "tuple"
            ]
          },
          "metadata": {},
          "execution_count": 10
        }
      ]
    },
    {
      "cell_type": "code",
      "source": [
        "#convert from int to float:\n",
        "x = float(1)\n",
        "#convert from float to int:\n",
        "y = int(2.8)\n",
        "#convert from int to complex:\n",
        "z = complex(1)\n",
        "print(x)\n",
        "print(y)\n",
        "print(z)\n",
        "print(type(x))\n",
        "print(type(y))\n",
        "print(type(z))"
      ],
      "metadata": {
        "id": "xv7GAT8ReUke",
        "colab": {
          "base_uri": "https://localhost:8080/"
        },
        "outputId": "298ac570-e567-496e-a93a-58c21746131d"
      },
      "execution_count": 1,
      "outputs": [
        {
          "output_type": "stream",
          "name": "stdout",
          "text": [
            "1.0\n",
            "2\n",
            "(1+0j)\n",
            "<class 'float'>\n",
            "<class 'int'>\n",
            "<class 'complex'>\n"
          ]
        }
      ]
    }
  ]
}