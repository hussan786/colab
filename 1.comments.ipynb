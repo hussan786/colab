{
 "cells": [
  {
   "cell_type": "code",
   "execution_count": 1,
   "metadata": {},
   "outputs": [
    {
     "name": "stdout",
     "output_type": "stream",
     "text": [
      "hello,world!\n"
     ]
    },
    {
     "data": {
      "text/plain": [
       "str"
      ]
     },
     "execution_count": 1,
     "metadata": {},
     "output_type": "execute_result"
    }
   ],
   "source": [
    "#this is a comment\n",
    "#written in\n",
    "#more than just one line\n",
    "print(\"hello,world!\")\n",
    "type(\"hellow world!\")"
   ]
  },
  {
   "cell_type": "code",
   "execution_count": 3,
   "metadata": {},
   "outputs": [
    {
     "name": "stdout",
     "output_type": "stream",
     "text": [
      "56 uzma pakistan,china us9876\n"
     ]
    }
   ],
   "source": [
    "#comments are written as\n",
    "num1=56\n",
    "name=\"uzma\"\n",
    "address=\"pakistan,china\"\n",
    "email=\"us9876\"\n",
    "print(num1,name,address,email)"
   ]
  },
  {
   "cell_type": "code",
   "execution_count": 4,
   "metadata": {},
   "outputs": [
    {
     "data": {
      "text/plain": [
       "str"
      ]
     },
     "execution_count": 4,
     "metadata": {},
     "output_type": "execute_result"
    }
   ],
   "source": [
    "type(num1)\n",
    "type(name)\n",
    "type(address)"
   ]
  },
  {
   "cell_type": "code",
   "execution_count": 8,
   "metadata": {},
   "outputs": [],
   "source": [
    "num1=input(\"enter number\")\n",
    "student_name=input(\"enter name\")\n",
    "address=input(\"enter address\")"
   ]
  },
  {
   "cell_type": "code",
   "execution_count": 9,
   "metadata": {},
   "outputs": [
    {
     "name": "stdout",
     "output_type": "stream",
     "text": [
      "the mod of 56 on 87 is 56\n"
     ]
    }
   ],
   "source": [
    "#get two values from the user and find the remainder\n",
    "value1=int(input(\"enter first value\"))\n",
    "value2=int(input(\"enter 2nd value\"))\n",
    "mod=value1 % value2\n",
    "print(\"the mod of\",value1,\"on\",value2,\"is\", mod)\n",
    " "
   ]
  },
  {
   "cell_type": "code",
   "execution_count": null,
   "metadata": {},
   "outputs": [],
   "source": []
  }
 ],
 "metadata": {
  "kernelspec": {
   "display_name": "Python 3",
   "language": "python",
   "name": "python3"
  },
  "language_info": {
   "codemirror_mode": {
    "name": "ipython",
    "version": 3
   },
   "file_extension": ".py",
   "mimetype": "text/x-python",
   "name": "python",
   "nbconvert_exporter": "python",
   "pygments_lexer": "ipython3",
   "version": "3.12.3"
  }
 },
 "nbformat": 4,
 "nbformat_minor": 2
}
